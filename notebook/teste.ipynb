{
 "cells": [
  {
   "cell_type": "code",
   "execution_count": 1,
   "metadata": {},
   "outputs": [
    {
     "name": "stdout",
     "output_type": "stream",
     "text": [
      "c:\\Thales\\Curiosidades\\ZapBot\n"
     ]
    },
    {
     "ename": "ImportError",
     "evalue": "cannot import name 'ChatListNotFoundException' from 'zapapi.Exceptions' (c:\\Thales\\Curiosidades\\ZapBot\\zapapi\\Exceptions.py)",
     "output_type": "error",
     "traceback": [
      "\u001b[1;31m---------------------------------------------------------------------------\u001b[0m",
      "\u001b[1;31mImportError\u001b[0m                               Traceback (most recent call last)",
      "\u001b[1;32mc:\\Thales\\Curiosidades\\ZapBot\\notebook\\teste.ipynb Cell 1'\u001b[0m in \u001b[0;36m<module>\u001b[1;34m\u001b[0m\n\u001b[0;32m      <a href='vscode-notebook-cell:/c%3A/Thales/Curiosidades/ZapBot/notebook/teste.ipynb#ch0000000?line=2'>3</a>\u001b[0m \u001b[39mprint\u001b[39m(os\u001b[39m.\u001b[39mgetcwd())\n\u001b[0;32m      <a href='vscode-notebook-cell:/c%3A/Thales/Curiosidades/ZapBot/notebook/teste.ipynb#ch0000000?line=3'>4</a>\u001b[0m \u001b[39mimport\u001b[39;00m \u001b[39mlogging\u001b[39;00m\n\u001b[1;32m----> <a href='vscode-notebook-cell:/c%3A/Thales/Curiosidades/ZapBot/notebook/teste.ipynb#ch0000000?line=4'>5</a>\u001b[0m \u001b[39mfrom\u001b[39;00m \u001b[39mzapapi\u001b[39;00m\u001b[39m.\u001b[39;00m\u001b[39mZapAPI\u001b[39;00m \u001b[39mimport\u001b[39;00m ZapAPI\n\u001b[0;32m      <a href='vscode-notebook-cell:/c%3A/Thales/Curiosidades/ZapBot/notebook/teste.ipynb#ch0000000?line=5'>6</a>\u001b[0m \u001b[39mfrom\u001b[39;00m \u001b[39mselenium\u001b[39;00m\u001b[39m.\u001b[39;00m\u001b[39mwebdriver\u001b[39;00m\u001b[39m.\u001b[39;00m\u001b[39mcommon\u001b[39;00m\u001b[39m.\u001b[39;00m\u001b[39mby\u001b[39;00m \u001b[39mimport\u001b[39;00m By\n\u001b[0;32m      <a href='vscode-notebook-cell:/c%3A/Thales/Curiosidades/ZapBot/notebook/teste.ipynb#ch0000000?line=6'>7</a>\u001b[0m \u001b[39mfrom\u001b[39;00m \u001b[39mzapbot\u001b[39;00m\u001b[39m.\u001b[39;00m\u001b[39mStateMachine\u001b[39;00m \u001b[39mimport\u001b[39;00m StateMachine\n",
      "File \u001b[1;32mc:\\Thales\\Curiosidades\\ZapBot\\zapapi\\__init__.py:2\u001b[0m, in \u001b[0;36m<module>\u001b[1;34m\u001b[0m\n\u001b[0;32m      <a href='file:///c%3A/Thales/Curiosidades/ZapBot/zapapi/__init__.py?line=0'>1</a>\u001b[0m \u001b[39mimport\u001b[39;00m \u001b[39mlogging\u001b[39;00m\n\u001b[1;32m----> <a href='file:///c%3A/Thales/Curiosidades/ZapBot/zapapi/__init__.py?line=1'>2</a>\u001b[0m \u001b[39mfrom\u001b[39;00m \u001b[39m.\u001b[39;00m \u001b[39mimport\u001b[39;00m ZapAPI\n\u001b[0;32m      <a href='file:///c%3A/Thales/Curiosidades/ZapBot/zapapi/__init__.py?line=2'>3</a>\u001b[0m \u001b[39mfrom\u001b[39;00m \u001b[39m.\u001b[39;00m \u001b[39mimport\u001b[39;00m ChatTypes\n\u001b[0;32m      <a href='file:///c%3A/Thales/Curiosidades/ZapBot/zapapi/__init__.py?line=3'>4</a>\u001b[0m logging\u001b[39m.\u001b[39mgetLogger(\u001b[39m__name__\u001b[39m)\u001b[39m.\u001b[39maddHandler(logging\u001b[39m.\u001b[39mNullHandler())\n",
      "File \u001b[1;32mc:\\Thales\\Curiosidades\\ZapBot\\zapapi\\ZapAPI.py:17\u001b[0m, in \u001b[0;36m<module>\u001b[1;34m\u001b[0m\n\u001b[0;32m     <a href='file:///c%3A/Thales/Curiosidades/ZapBot/zapapi/ZapAPI.py?line=11'>12</a>\u001b[0m \u001b[39mfrom\u001b[39;00m \u001b[39mselenium\u001b[39;00m\u001b[39m.\u001b[39;00m\u001b[39mcommon\u001b[39;00m\u001b[39m.\u001b[39;00m\u001b[39mexceptions\u001b[39;00m \u001b[39mimport\u001b[39;00m NoSuchElementException,\\\n\u001b[0;32m     <a href='file:///c%3A/Thales/Curiosidades/ZapBot/zapapi/ZapAPI.py?line=12'>13</a>\u001b[0m                                        StaleElementReferenceException,\\\n\u001b[0;32m     <a href='file:///c%3A/Thales/Curiosidades/ZapBot/zapapi/ZapAPI.py?line=13'>14</a>\u001b[0m                                        WebDriverException,\\\n\u001b[0;32m     <a href='file:///c%3A/Thales/Curiosidades/ZapBot/zapapi/ZapAPI.py?line=14'>15</a>\u001b[0m                                        TimeoutException\n\u001b[0;32m     <a href='file:///c%3A/Thales/Curiosidades/ZapBot/zapapi/ZapAPI.py?line=15'>16</a>\u001b[0m \u001b[39mfrom\u001b[39;00m \u001b[39m.\u001b[39;00m\u001b[39mChatTypes\u001b[39;00m \u001b[39mimport\u001b[39;00m ChatMessage, ChatListItem, ChatTextMessage\n\u001b[1;32m---> <a href='file:///c%3A/Thales/Curiosidades/ZapBot/zapapi/ZapAPI.py?line=16'>17</a>\u001b[0m \u001b[39mfrom\u001b[39;00m \u001b[39m.\u001b[39;00m\u001b[39mExceptions\u001b[39;00m \u001b[39mimport\u001b[39;00m ChatListNotFoundException,\\\n\u001b[0;32m     <a href='file:///c%3A/Thales/Curiosidades/ZapBot/zapapi/ZapAPI.py?line=17'>18</a>\u001b[0m                         ChatNotFoundException,\\\n\u001b[0;32m     <a href='file:///c%3A/Thales/Curiosidades/ZapBot/zapapi/ZapAPI.py?line=18'>19</a>\u001b[0m                         NoOpenChatException\n\u001b[0;32m     <a href='file:///c%3A/Thales/Curiosidades/ZapBot/zapapi/ZapAPI.py?line=19'>20</a>\u001b[0m \u001b[39mfrom\u001b[39;00m \u001b[39m.\u001b[39;00m\u001b[39mxpaths\u001b[39;00m \u001b[39mimport\u001b[39;00m SEARCH_BAR, LIST, LIST_CONTAINER, LIST_ITEM_NAO_LIDA,\\\n\u001b[0;32m     <a href='file:///c%3A/Thales/Curiosidades/ZapBot/zapapi/ZapAPI.py?line=20'>21</a>\u001b[0m SEARCH_CANCEL_BUTTON, CHAT, CHAT_NAME, MENSAGE_BOX, SEND_BUTTON,\\\n\u001b[0;32m     <a href='file:///c%3A/Thales/Curiosidades/ZapBot/zapapi/ZapAPI.py?line=21'>22</a>\u001b[0m ARCHIVED_OPEN_BUTTON, CHAT_CONTAINER, ARCHIVED_MENU_HEADER,\\\n\u001b[0;32m     <a href='file:///c%3A/Thales/Curiosidades/ZapBot/zapapi/ZapAPI.py?line=22'>23</a>\u001b[0m ARCHIVED_BACK_BUTTON\n\u001b[0;32m     <a href='file:///c%3A/Thales/Curiosidades/ZapBot/zapapi/ZapAPI.py?line=25'>26</a>\u001b[0m \u001b[39mimport\u001b[39;00m \u001b[39mlogging\u001b[39;00m\n",
      "\u001b[1;31mImportError\u001b[0m: cannot import name 'ChatListNotFoundException' from 'zapapi.Exceptions' (c:\\Thales\\Curiosidades\\ZapBot\\zapapi\\Exceptions.py)"
     ]
    }
   ],
   "source": [
    "import os, io\n",
    "os.chdir('../')\n",
    "print(os.getcwd())\n",
    "import logging\n",
    "from zapapi.ZapAPI import ZapAPI\n",
    "from selenium.webdriver.common.by import By\n",
    "from zapbot.StateMachine import StateMachine\n",
    "import yaml\n",
    "try:\n",
    "    from yaml import CLoader as Loader\n",
    "except ImportError:\n",
    "    from yaml import Loader\n",
    "\n",
    "yaml_dict = yaml.load(io.FileIO('./examples/fsm.yaml'), Loader)\n",
    "bot = StateMachine(**yaml_dict)\n",
    "api = ZapAPI(\"C:/Thales/Curiosidades/ZapBot/drivers/chromedriver.exe\", debug_level=logging.ERROR)"
   ]
  },
  {
   "cell_type": "code",
   "execution_count": 5,
   "metadata": {},
   "outputs": [
    {
     "ename": "AttributeError",
     "evalue": "'ChatListNotFoundException' object has no attribute 'target'",
     "output_type": "error",
     "traceback": [
      "\u001b[1;31m---------------------------------------------------------------------------\u001b[0m",
      "\u001b[1;31mChatListNotFoundException\u001b[0m                 Traceback (most recent call last)",
      "    \u001b[1;31m[... skipping hidden 1 frame]\u001b[0m\n",
      "Input \u001b[1;32mIn [5]\u001b[0m, in \u001b[0;36m<module>\u001b[1;34m\u001b[0m\n\u001b[1;32m----> 1\u001b[0m api\u001b[39m.\u001b[39;49mget_chat_list(\u001b[39mTrue\u001b[39;49;00m)\n",
      "File \u001b[1;32mc:\\Thales\\Curiosidades\\ZapBot\\zapapi\\ZapAPI.py:124\u001b[0m, in \u001b[0;36mZapAPI.get_chat_list\u001b[1;34m(self, only_not_readed)\u001b[0m\n\u001b[0;32m    <a href='file:///c%3A/Thales/Curiosidades/ZapBot/zapapi/ZapAPI.py?line=122'>123</a>\u001b[0m \u001b[39mif\u001b[39;00m \u001b[39mlen\u001b[39m(res) \u001b[39m==\u001b[39m \u001b[39m0\u001b[39m:\n\u001b[1;32m--> <a href='file:///c%3A/Thales/Curiosidades/ZapBot/zapapi/ZapAPI.py?line=123'>124</a>\u001b[0m     \u001b[39mraise\u001b[39;00m ChatListNotFoundException    \n\u001b[0;32m    <a href='file:///c%3A/Thales/Curiosidades/ZapBot/zapapi/ZapAPI.py?line=124'>125</a>\u001b[0m \u001b[39mreturn\u001b[39;00m [ChatListItem(el) \u001b[39mfor\u001b[39;00m el \u001b[39min\u001b[39;00m \u001b[39msorted\u001b[39m(res, key\u001b[39m=\u001b[39m\u001b[39mlambda\u001b[39;00m x: x\u001b[39m.\u001b[39mlocation[\u001b[39m'\u001b[39m\u001b[39my\u001b[39m\u001b[39m'\u001b[39m])]\n",
      "\u001b[1;31m<class 'str'>\u001b[0m: (<class 'AttributeError'>, AttributeError(\"'ChatListNotFoundException' object has no attribute 'target'\"))",
      "\nDuring handling of the above exception, another exception occurred:\n",
      "\u001b[1;31mAttributeError\u001b[0m                            Traceback (most recent call last)",
      "    \u001b[1;31m[... skipping hidden 1 frame]\u001b[0m\n",
      "File \u001b[1;32mc:\\Thales\\Curiosidades\\ZapBot\\venv\\lib\\site-packages\\IPython\\core\\interactiveshell.py:1939\u001b[0m, in \u001b[0;36mInteractiveShell.showtraceback\u001b[1;34m(self, exc_tuple, filename, tb_offset, exception_only, running_compiled_code)\u001b[0m\n\u001b[0;32m   <a href='file:///c%3A/Thales/Curiosidades/ZapBot/venv/lib/site-packages/IPython/core/interactiveshell.py?line=1934'>1935</a>\u001b[0m \u001b[39mexcept\u001b[39;00m \u001b[39mException\u001b[39;00m:\n\u001b[0;32m   <a href='file:///c%3A/Thales/Curiosidades/ZapBot/venv/lib/site-packages/IPython/core/interactiveshell.py?line=1935'>1936</a>\u001b[0m     stb \u001b[39m=\u001b[39m \u001b[39mself\u001b[39m\u001b[39m.\u001b[39mInteractiveTB\u001b[39m.\u001b[39mstructured_traceback(etype,\n\u001b[0;32m   <a href='file:///c%3A/Thales/Curiosidades/ZapBot/venv/lib/site-packages/IPython/core/interactiveshell.py?line=1936'>1937</a>\u001b[0m                         value, tb, tb_offset\u001b[39m=\u001b[39mtb_offset)\n\u001b[1;32m-> <a href='file:///c%3A/Thales/Curiosidades/ZapBot/venv/lib/site-packages/IPython/core/interactiveshell.py?line=1938'>1939</a>\u001b[0m \u001b[39mself\u001b[39;49m\u001b[39m.\u001b[39;49m_showtraceback(etype, value, stb)\n\u001b[0;32m   <a href='file:///c%3A/Thales/Curiosidades/ZapBot/venv/lib/site-packages/IPython/core/interactiveshell.py?line=1939'>1940</a>\u001b[0m \u001b[39mif\u001b[39;00m \u001b[39mself\u001b[39m\u001b[39m.\u001b[39mcall_pdb:\n\u001b[0;32m   <a href='file:///c%3A/Thales/Curiosidades/ZapBot/venv/lib/site-packages/IPython/core/interactiveshell.py?line=1940'>1941</a>\u001b[0m     \u001b[39m# drop into debugger\u001b[39;00m\n\u001b[0;32m   <a href='file:///c%3A/Thales/Curiosidades/ZapBot/venv/lib/site-packages/IPython/core/interactiveshell.py?line=1941'>1942</a>\u001b[0m     \u001b[39mself\u001b[39m\u001b[39m.\u001b[39mdebugger(force\u001b[39m=\u001b[39m\u001b[39mTrue\u001b[39;00m)\n",
      "File \u001b[1;32mc:\\Thales\\Curiosidades\\ZapBot\\venv\\lib\\site-packages\\ipykernel\\zmqshell.py:542\u001b[0m, in \u001b[0;36mZMQInteractiveShell._showtraceback\u001b[1;34m(self, etype, evalue, stb)\u001b[0m\n\u001b[0;32m    <a href='file:///c%3A/Thales/Curiosidades/ZapBot/venv/lib/site-packages/ipykernel/zmqshell.py?line=535'>536</a>\u001b[0m sys\u001b[39m.\u001b[39mstdout\u001b[39m.\u001b[39mflush()\n\u001b[0;32m    <a href='file:///c%3A/Thales/Curiosidades/ZapBot/venv/lib/site-packages/ipykernel/zmqshell.py?line=536'>537</a>\u001b[0m sys\u001b[39m.\u001b[39mstderr\u001b[39m.\u001b[39mflush()\n\u001b[0;32m    <a href='file:///c%3A/Thales/Curiosidades/ZapBot/venv/lib/site-packages/ipykernel/zmqshell.py?line=538'>539</a>\u001b[0m exc_content \u001b[39m=\u001b[39m {\n\u001b[0;32m    <a href='file:///c%3A/Thales/Curiosidades/ZapBot/venv/lib/site-packages/ipykernel/zmqshell.py?line=539'>540</a>\u001b[0m     \u001b[39m'\u001b[39m\u001b[39mtraceback\u001b[39m\u001b[39m'\u001b[39m : stb,\n\u001b[0;32m    <a href='file:///c%3A/Thales/Curiosidades/ZapBot/venv/lib/site-packages/ipykernel/zmqshell.py?line=540'>541</a>\u001b[0m     \u001b[39m'\u001b[39m\u001b[39mename\u001b[39m\u001b[39m'\u001b[39m : \u001b[39mstr\u001b[39m(etype\u001b[39m.\u001b[39m\u001b[39m__name__\u001b[39m),\n\u001b[1;32m--> <a href='file:///c%3A/Thales/Curiosidades/ZapBot/venv/lib/site-packages/ipykernel/zmqshell.py?line=541'>542</a>\u001b[0m     \u001b[39m'\u001b[39m\u001b[39mevalue\u001b[39m\u001b[39m'\u001b[39m : \u001b[39mstr\u001b[39;49m(evalue),\n\u001b[0;32m    <a href='file:///c%3A/Thales/Curiosidades/ZapBot/venv/lib/site-packages/ipykernel/zmqshell.py?line=542'>543</a>\u001b[0m }\n\u001b[0;32m    <a href='file:///c%3A/Thales/Curiosidades/ZapBot/venv/lib/site-packages/ipykernel/zmqshell.py?line=544'>545</a>\u001b[0m dh \u001b[39m=\u001b[39m \u001b[39mself\u001b[39m\u001b[39m.\u001b[39mdisplayhook\n\u001b[0;32m    <a href='file:///c%3A/Thales/Curiosidades/ZapBot/venv/lib/site-packages/ipykernel/zmqshell.py?line=545'>546</a>\u001b[0m \u001b[39m# Send exception info over pub socket for other clients than the caller\u001b[39;00m\n\u001b[0;32m    <a href='file:///c%3A/Thales/Curiosidades/ZapBot/venv/lib/site-packages/ipykernel/zmqshell.py?line=546'>547</a>\u001b[0m \u001b[39m# to pick up\u001b[39;00m\n",
      "File \u001b[1;32mc:\\Thales\\Curiosidades\\ZapBot\\zapapi\\Exceptions.py:13\u001b[0m, in \u001b[0;36mChatListNotFoundException.__str__\u001b[1;34m(self)\u001b[0m\n\u001b[0;32m     <a href='file:///c%3A/Thales/Curiosidades/ZapBot/zapapi/Exceptions.py?line=11'>12</a>\u001b[0m \u001b[39mdef\u001b[39;00m \u001b[39m__str__\u001b[39m(\u001b[39mself\u001b[39m):\n\u001b[1;32m---> <a href='file:///c%3A/Thales/Curiosidades/ZapBot/zapapi/Exceptions.py?line=12'>13</a>\u001b[0m     \u001b[39mreturn\u001b[39;00m \u001b[39mf\u001b[39m\u001b[39m'\u001b[39m\u001b[39m{\u001b[39;00m\u001b[39mself\u001b[39m\u001b[39m.\u001b[39mtarget\u001b[39m}\u001b[39;00m\u001b[39m -> \u001b[39m\u001b[39m{\u001b[39;00m\u001b[39mself\u001b[39m\u001b[39m.\u001b[39mmessage\u001b[39m}\u001b[39;00m\u001b[39m'\u001b[39m\n",
      "\u001b[1;31mAttributeError\u001b[0m: 'ChatListNotFoundException' object has no attribute 'target'"
     ]
    }
   ],
   "source": [
    "api.get_chat_list(True)"
   ]
  },
  {
   "cell_type": "code",
   "execution_count": 4,
   "metadata": {},
   "outputs": [
    {
     "ename": "AttributeError",
     "evalue": "'list' object has no attribute 'name'",
     "output_type": "error",
     "traceback": [
      "\u001b[1;31m---------------------------------------------------------------------------\u001b[0m",
      "\u001b[1;31mAttributeError\u001b[0m                            Traceback (most recent call last)",
      "Input \u001b[1;32mIn [4]\u001b[0m, in \u001b[0;36m<module>\u001b[1;34m\u001b[0m\n\u001b[1;32m----> 1\u001b[0m api\u001b[39m.\u001b[39;49mopen_chat(\u001b[39m'\u001b[39;49m\u001b[39mMamis\u001b[39;49m\u001b[39m'\u001b[39;49m)\n",
      "File \u001b[1;32mc:\\Thales\\Curiosidades\\ZapBot\\zapapi\\ZapAPI.py:184\u001b[0m, in \u001b[0;36mZapAPI.open_chat\u001b[1;34m(self, target, exact_match)\u001b[0m\n\u001b[0;32m    <a href='file:///c%3A/Thales/Curiosidades/ZapBot/zapapi/ZapAPI.py?line=181'>182</a>\u001b[0m \u001b[39m# Retorna lista de conversas\u001b[39;00m\n\u001b[0;32m    <a href='file:///c%3A/Thales/Curiosidades/ZapBot/zapapi/ZapAPI.py?line=182'>183</a>\u001b[0m res \u001b[39m=\u001b[39m \u001b[39mself\u001b[39m\u001b[39m.\u001b[39mget_chat_list()\n\u001b[1;32m--> <a href='file:///c%3A/Thales/Curiosidades/ZapBot/zapapi/ZapAPI.py?line=183'>184</a>\u001b[0m result_name \u001b[39m=\u001b[39m res\u001b[39m.\u001b[39;49mname\n\u001b[0;32m    <a href='file:///c%3A/Thales/Curiosidades/ZapBot/zapapi/ZapAPI.py?line=184'>185</a>\u001b[0m \u001b[39mtry\u001b[39;00m:\n\u001b[0;32m    <a href='file:///c%3A/Thales/Curiosidades/ZapBot/zapapi/ZapAPI.py?line=185'>186</a>\u001b[0m     \u001b[39mif\u001b[39;00m \u001b[39mnot\u001b[39;00m exact_match \u001b[39mor\u001b[39;00m (exact_match \u001b[39mand\u001b[39;00m result_name \u001b[39m==\u001b[39m target):\n",
      "\u001b[1;31mAttributeError\u001b[0m: 'list' object has no attribute 'name'"
     ]
    }
   ],
   "source": [
    "api.open_chat('Mamis')"
   ]
  },
  {
   "cell_type": "code",
   "execution_count": 8,
   "metadata": {},
   "outputs": [
    {
     "data": {
      "text/plain": [
       "[['Hora selecionada'],\n",
       " ['Escolha uma das opções as seguir',\n",
       "  '1 - horas',\n",
       "  '2 - minutos',\n",
       "  '3 - segundos',\n",
       "  '4 - voltar']]"
      ]
     },
     "execution_count": 8,
     "metadata": {},
     "output_type": "execute_result"
    }
   ],
   "source": [
    "message = \"42\"\n",
    "sender= \"Thales\"\n",
    "\n",
    "bot.send(message=message, sender=sender, h=11, m=12, s=13, D=14, M=7, A=2022)"
   ]
  },
  {
   "cell_type": "code",
   "execution_count": null,
   "metadata": {},
   "outputs": [],
   "source": []
  }
 ],
 "metadata": {
  "kernelspec": {
   "display_name": "Python 3",
   "language": "python",
   "name": "python3"
  },
  "language_info": {
   "codemirror_mode": {
    "name": "ipython",
    "version": 3
   },
   "file_extension": ".py",
   "mimetype": "text/x-python",
   "name": "python",
   "nbconvert_exporter": "python",
   "pygments_lexer": "ipython3",
   "version": "3.10.0"
  }
 },
 "nbformat": 4,
 "nbformat_minor": 2
}
