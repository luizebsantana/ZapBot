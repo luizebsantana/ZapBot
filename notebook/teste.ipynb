{
 "cells": [
  {
   "cell_type": "code",
   "execution_count": 1,
   "metadata": {},
   "outputs": [
    {
     "name": "stderr",
     "output_type": "stream",
     "text": [
      "2022-02-07 13:46:35,516 zapbot.ZapAPI INFO     Driver Inicializado.\n",
      "2022-02-07 13:46:35,519 zapbot.ZapAPI INFO     Carregando pagina.\n",
      "2022-02-07 13:46:37,619 zapbot.ZapAPI DEBUG    tentativa 0\n",
      "2022-02-07 13:46:40,174 zapbot.ZapAPI DEBUG    tentativa 1\n",
      "2022-02-07 13:46:42,563 zapbot.ZapAPI DEBUG    tentativa 2\n",
      "2022-02-07 13:46:42,976 zapbot.ZapAPI INFO     Pagina Carregada\n"
     ]
    }
   ],
   "source": [
    "import os\n",
    "os.chdir('../')\n",
    "os.getcwd()\n",
    "import logging\n",
    "from zapbot import ZapAPI\n",
    "bot = ZapAPI(\"C:/Thales/Curiosidades/ZapBot/drivers/chromedriver.exe\", debug_level=logging.ERROR)"
   ]
  },
  {
   "cell_type": "code",
   "execution_count": 4,
   "metadata": {},
   "outputs": [
    {
     "name": "stderr",
     "output_type": "stream",
     "text": [
      "2022-02-07 13:47:07,849 zapbot.ZapAPI INFO     Chat 'Grilo' aberto com sucesso.\n"
     ]
    }
   ],
   "source": []
  },
  {
   "cell_type": "code",
   "execution_count": 14,
   "metadata": {},
   "outputs": [
    {
     "name": "stdout",
     "output_type": "stream",
     "text": [
      "<selenium.webdriver.remote.webelement.WebElement (session=\"50cda7a47167fbd3726e838e22877cf4\", element=\"491d390b-5cb9-427e-b466-2fa8811b36a1\")>\n",
      "[<selenium.webdriver.remote.webelement.WebElement (session=\"50cda7a47167fbd3726e838e22877cf4\", element=\"ffac3984-d11c-4336-9e26-757b00c8575e\")>, <selenium.webdriver.remote.webelement.WebElement (session=\"50cda7a47167fbd3726e838e22877cf4\", element=\"f8a05a2f-12d1-4cce-9372-ffe96881f5e9\")>, <selenium.webdriver.remote.webelement.WebElement (session=\"50cda7a47167fbd3726e838e22877cf4\", element=\"f709baef-80c0-40a3-a703-a460368c6368\")>, <selenium.webdriver.remote.webelement.WebElement (session=\"50cda7a47167fbd3726e838e22877cf4\", element=\"51ec7cf0-a164-440b-b717-9e0ab08c5ab5\")>, <selenium.webdriver.remote.webelement.WebElement (session=\"50cda7a47167fbd3726e838e22877cf4\", element=\"6184de12-e4e6-46a7-b4bb-dc73ffe733d0\")>, <selenium.webdriver.remote.webelement.WebElement (session=\"50cda7a47167fbd3726e838e22877cf4\", element=\"6642357e-bd5b-48d5-91e1-43882e993975\")>, <selenium.webdriver.remote.webelement.WebElement (session=\"50cda7a47167fbd3726e838e22877cf4\", element=\"109b20cf-2de9-4121-9e74-5fa51d833e31\")>, <selenium.webdriver.remote.webelement.WebElement (session=\"50cda7a47167fbd3726e838e22877cf4\", element=\"85ab172b-f7fa-473a-9d40-8d0678db2f89\")>, <selenium.webdriver.remote.webelement.WebElement (session=\"50cda7a47167fbd3726e838e22877cf4\", element=\"26316bff-2130-48ef-8a87-adbd648b0b6b\")>, <selenium.webdriver.remote.webelement.WebElement (session=\"50cda7a47167fbd3726e838e22877cf4\", element=\"0cb70005-c8e7-4f94-aa34-39bc05636a66\")>, <selenium.webdriver.remote.webelement.WebElement (session=\"50cda7a47167fbd3726e838e22877cf4\", element=\"34523aa1-1b3d-43e5-bf8e-253c71505006\")>, <selenium.webdriver.remote.webelement.WebElement (session=\"50cda7a47167fbd3726e838e22877cf4\", element=\"aae408cc-df85-473a-a9f4-392d46da0754\")>, <selenium.webdriver.remote.webelement.WebElement (session=\"50cda7a47167fbd3726e838e22877cf4\", element=\"29cba239-412c-4791-8376-2d67298df98c\")>, <selenium.webdriver.remote.webelement.WebElement (session=\"50cda7a47167fbd3726e838e22877cf4\", element=\"b5d63a7d-98c6-434f-b84f-511a62f59295\")>, <selenium.webdriver.remote.webelement.WebElement (session=\"50cda7a47167fbd3726e838e22877cf4\", element=\"bccae54f-a891-4608-a105-4c7a4f4f5ec7\")>, <selenium.webdriver.remote.webelement.WebElement (session=\"50cda7a47167fbd3726e838e22877cf4\", element=\"2522f2e1-d7c1-4611-a3b3-d65a74331001\")>, <selenium.webdriver.remote.webelement.WebElement (session=\"50cda7a47167fbd3726e838e22877cf4\", element=\"c5a0d456-f714-4047-9043-e18d461fb9d3\")>, <selenium.webdriver.remote.webelement.WebElement (session=\"50cda7a47167fbd3726e838e22877cf4\", element=\"32e68e9d-d2b6-4ccd-ba17-38463e20813b\")>, <selenium.webdriver.remote.webelement.WebElement (session=\"50cda7a47167fbd3726e838e22877cf4\", element=\"b17ced0a-f44a-4971-97b8-43d95dae7432\")>, <selenium.webdriver.remote.webelement.WebElement (session=\"50cda7a47167fbd3726e838e22877cf4\", element=\"cbf478ba-895b-4b8d-9180-f8bbccb26615\")>, <selenium.webdriver.remote.webelement.WebElement (session=\"50cda7a47167fbd3726e838e22877cf4\", element=\"efe92807-6502-4414-8d70-9bff2d93244d\")>]\n"
     ]
    }
   ],
   "source": [
    "from zapbot.ZapAPI import *\n",
    "\n",
    "LIST_CONTAINER = '//div[@id=\"pane-side\"]'\n",
    "CHAT_LIST = './/div[@aria-label=\"Lista de conversas\"]/div/div/div'\n",
    "\n",
    "# Retorna a barra de rolagem para o inicio\n",
    "container = bot.driver.find_element(By.XPATH, LIST_CONTAINER)\n",
    "print(container)\n",
    "\n",
    "bot.driver.execute_script('arguments[0].scroll(0,0)', container)\n",
    "# Espera a execucao do javascript\n",
    "sleep(0.2)\n",
    "# Ordena resultados pelo ordem da posicao y na tela e retorna a lista de busca ou de conversas\n",
    "try:\n",
    "    print(sorted(container.find_elements(By.XPATH, CHAT_LIST),  key=lambda x: x.location['y']))\n",
    "except NoSuchElementException:\n",
    "    print(sorted(container.find_elements(By.XPATH, SEARCH_LIST),  key=lambda x: x.location['y']))"
   ]
  },
  {
   "cell_type": "code",
   "execution_count": 3,
   "metadata": {},
   "outputs": [
    {
     "name": "stderr",
     "output_type": "stream",
     "text": [
      "2022-02-07 12:32:47,212 zapbot.ZapAPI INFO     Chat 'Eu' aberto com sucesso.\n"
     ]
    },
    {
     "data": {
      "text/plain": [
       "'Eu'"
      ]
     },
     "execution_count": 3,
     "metadata": {},
     "output_type": "execute_result"
    }
   ],
   "source": [
    "bot.open_chat(\"Eu\")"
   ]
  },
  {
   "cell_type": "code",
   "execution_count": 3,
   "metadata": {},
   "outputs": [
    {
     "ename": "NoOpenChatException",
     "evalue": "No open chat found, try calling ZapAPI.open_chat(<chat_name>) first.",
     "output_type": "error",
     "traceback": [
      "\u001b[1;31m---------------------------------------------------------------------------\u001b[0m",
      "\u001b[1;31mNoOpenChatException\u001b[0m                       Traceback (most recent call last)",
      "Input \u001b[1;32mIn [3]\u001b[0m, in \u001b[0;36m<module>\u001b[1;34m\u001b[0m\n\u001b[1;32m----> 1\u001b[0m \u001b[43mbot\u001b[49m\u001b[38;5;241;43m.\u001b[39;49m\u001b[43msend_message\u001b[49m\u001b[43m(\u001b[49m\u001b[38;5;124;43m\"\u001b[39;49m\u001b[38;5;124;43mOla isso é um teste \u001b[39;49m\u001b[38;5;130;43;01m\\n\u001b[39;49;00m\u001b[38;5;124;43m ok\u001b[39;49m\u001b[38;5;124;43m\"\u001b[39;49m\u001b[43m)\u001b[49m\n",
      "File \u001b[1;32mc:\\Thales\\Curiosidades\\ZapBot\\zapbot\\ZapAPI.py:229\u001b[0m, in \u001b[0;36mZapAPI.send_message\u001b[1;34m(self, mensagem)\u001b[0m\n\u001b[0;32m    227\u001b[0m     caixa_de_mensagem \u001b[38;5;241m=\u001b[39m \u001b[38;5;28mself\u001b[39m\u001b[38;5;241m.\u001b[39mdriver\u001b[38;5;241m.\u001b[39mfind_element(By\u001b[38;5;241m.\u001b[39mXPATH, MENSAGE_BOX)\n\u001b[0;32m    228\u001b[0m \u001b[38;5;28;01mexcept\u001b[39;00m NoSuchElementException:\n\u001b[1;32m--> 229\u001b[0m     \u001b[38;5;28;01mraise\u001b[39;00m NoOpenChatException \u001b[38;5;28;01mfrom\u001b[39;00m \u001b[38;5;28mNone\u001b[39m\n\u001b[0;32m    230\u001b[0m \u001b[38;5;66;03m# pre-process mensage\u001b[39;00m\n\u001b[0;32m    231\u001b[0m mensagem_lines \u001b[38;5;241m=\u001b[39m mensagem\u001b[38;5;241m.\u001b[39msplit(\u001b[38;5;124m'\u001b[39m\u001b[38;5;130;01m\\n\u001b[39;00m\u001b[38;5;124m'\u001b[39m)\n",
      "\u001b[1;31mNoOpenChatException\u001b[0m: No open chat found, try calling ZapAPI.open_chat(<chat_name>) first."
     ]
    }
   ],
   "source": [
    "bot.send_message(\"Ola isso é um teste \\n ok\")"
   ]
  },
  {
   "cell_type": "code",
   "execution_count": 13,
   "metadata": {},
   "outputs": [
    {
     "name": "stderr",
     "output_type": "stream",
     "text": [
      "2022-02-07 00:42:29,104 zapbot.ZapAPI INFO     Chat aberto 'Grilo' difere de 'Eu' tentando novamente...\n",
      "2022-02-07 00:42:29,468 zapbot.ZapAPI INFO     Chat 'Eu' aberto com sucesso.\n",
      "2022-02-07 00:42:39,553 zapbot.ZapAPI INFO     Chat aberto 'Eu' difere de 'Grilo' tentando novamente...\n",
      "2022-02-07 00:42:39,899 zapbot.ZapAPI INFO     Chat 'Grilo' aberto com sucesso.\n",
      "2022-02-07 00:43:37,821 zapbot.ZapAPI INFO     Chat aberto 'Grilo' difere de 'Sussurro' tentando novamente...\n",
      "2022-02-07 00:43:38,202 zapbot.ZapAPI INFO     Chat 'Sussurro' aberto com sucesso.\n"
     ]
    },
    {
     "ename": "KeyboardInterrupt",
     "evalue": "",
     "output_type": "error",
     "traceback": [
      "\u001b[1;31m---------------------------------------------------------------------------\u001b[0m",
      "\u001b[1;31mKeyboardInterrupt\u001b[0m                         Traceback (most recent call last)",
      "Input \u001b[1;32mIn [13]\u001b[0m, in \u001b[0;36m<module>\u001b[1;34m\u001b[0m\n\u001b[0;32m      4\u001b[0m bot\u001b[38;5;241m.\u001b[39mopen_chat(\u001b[38;5;124m\"\u001b[39m\u001b[38;5;124meu\u001b[39m\u001b[38;5;124m\"\u001b[39m)\n\u001b[0;32m      5\u001b[0m \u001b[38;5;28;01mwhile\u001b[39;00m \u001b[38;5;28;01mTrue\u001b[39;00m:\n\u001b[1;32m----> 6\u001b[0m     \u001b[43msleep\u001b[49m\u001b[43m(\u001b[49m\u001b[38;5;241;43m.5\u001b[39;49m\u001b[43m)\u001b[49m\n\u001b[0;32m      7\u001b[0m     \u001b[38;5;28;01mfor\u001b[39;00m notification \u001b[38;5;129;01min\u001b[39;00m bot\u001b[38;5;241m.\u001b[39mget_notifications():\n\u001b[0;32m      8\u001b[0m         \u001b[38;5;28;01mif\u001b[39;00m \u001b[38;5;124m\"\u001b[39m\u001b[38;5;124mAnalytics\u001b[39m\u001b[38;5;124m\"\u001b[39m \u001b[38;5;129;01min\u001b[39;00m notification\u001b[38;5;241m.\u001b[39mname:\n",
      "\u001b[1;31mKeyboardInterrupt\u001b[0m: "
     ]
    }
   ],
   "source": [
    "# Replicando mensagens\n",
    "from time import sleep\n",
    "\n",
    "NOT_LISTENING = ('Analytics', 'Carran', 'Estrutura', '2', 'Padri', 'Se vi', 'BROTH', 'Rol', 'Botelho')\n",
    "\n",
    "# Abri uma conversa qualquer\n",
    "while True:\n",
    "    sleep(.5)\n",
    "    for notification in bot.get_notifications():\n",
    "\n",
    "        #  Pula notificações indesejadas\n",
    "        skip = False\n",
    "        for name in NOT_LISTENING:\n",
    "            if name in notification.name:\n",
    "                skip = True\n",
    "        if skip:\n",
    "            continue\n",
    "\n",
    "        bot.open_chat(notification.name)\n",
    "\n",
    "    # Update messages\n",
    "    for msg in bot.get_messages(True):\n",
    "        if msg.sender != 'Sussurro':\n",
    "            bot.send_message(\"BOT: \"+msg.message)\n"
   ]
  }
 ],
 "metadata": {
  "kernelspec": {
   "display_name": "Python 3",
   "language": "python",
   "name": "python3"
  },
  "language_info": {
   "codemirror_mode": {
    "name": "ipython",
    "version": 3
   },
   "file_extension": ".py",
   "mimetype": "text/x-python",
   "name": "python",
   "nbconvert_exporter": "python",
   "pygments_lexer": "ipython3",
   "version": "3.10.0"
  }
 },
 "nbformat": 4,
 "nbformat_minor": 2
}
