{
 "cells": [
  {
   "cell_type": "code",
   "execution_count": 1,
   "metadata": {},
   "outputs": [
    {
     "data": {
      "text/plain": [
       "'c:\\\\Thales\\\\Curiosidades\\\\ZapBot'"
      ]
     },
     "execution_count": 1,
     "metadata": {},
     "output_type": "execute_result"
    }
   ],
   "source": [
    "import os\n",
    "os.chdir('../')\n",
    "os.getcwd()"
   ]
  },
  {
   "cell_type": "code",
   "execution_count": 2,
   "metadata": {},
   "outputs": [
    {
     "name": "stderr",
     "output_type": "stream",
     "text": [
      "2022-02-07 10:35:59,808 zapbot.ZapAPI INFO     Driver Inicializado.\n",
      "2022-02-07 10:35:59,808 zapbot.ZapAPI INFO     Carregando pagina.\n",
      "2022-02-07 10:36:02,224 zapbot.ZapAPI DEBUG    tentativa 0\n",
      "2022-02-07 10:36:03,596 zapbot.ZapAPI INFO     Pagina Carregada\n"
     ]
    }
   ],
   "source": [
    "import logging\n",
    "from zapbot import ZapAPI\n",
    "bot = ZapAPI(\"C:/Thales/Curiosidades/ZapBot/drivers/chromedriver.exe\", debug_level=logging.DEBUG)"
   ]
  },
  {
   "cell_type": "code",
   "execution_count": 3,
   "metadata": {},
   "outputs": [
    {
     "name": "stderr",
     "output_type": "stream",
     "text": [
      "2022-02-07 10:36:07,801 zapbot.ZapAPI ERROR    Nao foi possivel abrir a conversa Olas.\n"
     ]
    },
    {
     "ename": "ChatNotFoundException",
     "evalue": "Olas -> Chat not found",
     "output_type": "error",
     "traceback": [
      "\u001b[1;31m---------------------------------------------------------------------------\u001b[0m",
      "\u001b[1;31mChatNotFoundException\u001b[0m                     Traceback (most recent call last)",
      "Input \u001b[1;32mIn [3]\u001b[0m, in \u001b[0;36m<module>\u001b[1;34m\u001b[0m\n\u001b[1;32m----> 1\u001b[0m \u001b[43mbot\u001b[49m\u001b[38;5;241;43m.\u001b[39;49m\u001b[43mopen_chat\u001b[49m\u001b[43m(\u001b[49m\u001b[38;5;124;43m\"\u001b[39;49m\u001b[38;5;124;43mOlas\u001b[39;49m\u001b[38;5;124;43m\"\u001b[39;49m\u001b[43m)\u001b[49m\n",
      "File \u001b[1;32mc:\\Thales\\Curiosidades\\ZapBot\\zapbot\\ZapAPI.py:224\u001b[0m, in \u001b[0;36mZapAPI.open_chat\u001b[1;34m(self, target, exact_match)\u001b[0m\n\u001b[0;32m    222\u001b[0m         tries \u001b[38;5;241m+\u001b[39m\u001b[38;5;241m=\u001b[39m \u001b[38;5;241m1\u001b[39m\n\u001b[0;32m    223\u001b[0m logger\u001b[38;5;241m.\u001b[39merror(\u001b[38;5;124m\"\u001b[39m\u001b[38;5;124mNao foi possivel abrir a conversa \u001b[39m\u001b[38;5;132;01m{}\u001b[39;00m\u001b[38;5;124m.\u001b[39m\u001b[38;5;124m\"\u001b[39m\u001b[38;5;241m.\u001b[39mformat(target))\n\u001b[1;32m--> 224\u001b[0m \u001b[38;5;28;01mraise\u001b[39;00m ChatNotFoundException(target)\n",
      "\u001b[1;31mChatNotFoundException\u001b[0m: Olas -> Chat not found"
     ]
    }
   ],
   "source": [
    "bot.open_chat(\"Olas\")"
   ]
  },
  {
   "cell_type": "code",
   "execution_count": 13,
   "metadata": {},
   "outputs": [
    {
     "name": "stderr",
     "output_type": "stream",
     "text": [
      "2022-02-07 00:42:29,104 zapbot.ZapAPI INFO     Chat aberto 'Grilo' difere de 'Eu' tentando novamente...\n",
      "2022-02-07 00:42:29,468 zapbot.ZapAPI INFO     Chat 'Eu' aberto com sucesso.\n",
      "2022-02-07 00:42:39,553 zapbot.ZapAPI INFO     Chat aberto 'Eu' difere de 'Grilo' tentando novamente...\n",
      "2022-02-07 00:42:39,899 zapbot.ZapAPI INFO     Chat 'Grilo' aberto com sucesso.\n",
      "2022-02-07 00:43:37,821 zapbot.ZapAPI INFO     Chat aberto 'Grilo' difere de 'Sussurro' tentando novamente...\n",
      "2022-02-07 00:43:38,202 zapbot.ZapAPI INFO     Chat 'Sussurro' aberto com sucesso.\n"
     ]
    },
    {
     "ename": "KeyboardInterrupt",
     "evalue": "",
     "output_type": "error",
     "traceback": [
      "\u001b[1;31m---------------------------------------------------------------------------\u001b[0m",
      "\u001b[1;31mKeyboardInterrupt\u001b[0m                         Traceback (most recent call last)",
      "Input \u001b[1;32mIn [13]\u001b[0m, in \u001b[0;36m<module>\u001b[1;34m\u001b[0m\n\u001b[0;32m      4\u001b[0m bot\u001b[38;5;241m.\u001b[39mopen_chat(\u001b[38;5;124m\"\u001b[39m\u001b[38;5;124meu\u001b[39m\u001b[38;5;124m\"\u001b[39m)\n\u001b[0;32m      5\u001b[0m \u001b[38;5;28;01mwhile\u001b[39;00m \u001b[38;5;28;01mTrue\u001b[39;00m:\n\u001b[1;32m----> 6\u001b[0m     \u001b[43msleep\u001b[49m\u001b[43m(\u001b[49m\u001b[38;5;241;43m.5\u001b[39;49m\u001b[43m)\u001b[49m\n\u001b[0;32m      7\u001b[0m     \u001b[38;5;28;01mfor\u001b[39;00m notification \u001b[38;5;129;01min\u001b[39;00m bot\u001b[38;5;241m.\u001b[39mget_notifications():\n\u001b[0;32m      8\u001b[0m         \u001b[38;5;28;01mif\u001b[39;00m \u001b[38;5;124m\"\u001b[39m\u001b[38;5;124mAnalytics\u001b[39m\u001b[38;5;124m\"\u001b[39m \u001b[38;5;129;01min\u001b[39;00m notification\u001b[38;5;241m.\u001b[39mname:\n",
      "\u001b[1;31mKeyboardInterrupt\u001b[0m: "
     ]
    }
   ],
   "source": [
    "# Replicando mensagens\n",
    "from time import sleep\n",
    "\n",
    "NOT_LISTENING = ('Analytics', 'Carran', 'Estrutura', '2', 'Padri', 'Se vi', 'BROTH', 'Rol', 'Botelho')\n",
    "\n",
    "# Abri uma conversa qualquer\n",
    "while True:\n",
    "    sleep(.5)\n",
    "    for notification in bot.get_notifications():\n",
    "\n",
    "        #  Pula notificações indesejadas\n",
    "        skip = False\n",
    "        for name in NOT_LISTENING:\n",
    "            if name in notification.name:\n",
    "                skip = True\n",
    "        if skip:\n",
    "            continue\n",
    "\n",
    "        bot.open_chat(notification.name)\n",
    "\n",
    "    # Update messages\n",
    "    for msg in bot.get_messages(True):\n",
    "        if msg.sender != 'Sussurro':\n",
    "            bot.send_message(\"BOT: \"+msg.message)\n"
   ]
  }
 ],
 "metadata": {
  "kernelspec": {
   "display_name": "Python 3",
   "language": "python",
   "name": "python3"
  },
  "language_info": {
   "codemirror_mode": {
    "name": "ipython",
    "version": 3
   },
   "file_extension": ".py",
   "mimetype": "text/x-python",
   "name": "python",
   "nbconvert_exporter": "python",
   "pygments_lexer": "ipython3",
   "version": "3.10.0"
  }
 },
 "nbformat": 4,
 "nbformat_minor": 2
}
