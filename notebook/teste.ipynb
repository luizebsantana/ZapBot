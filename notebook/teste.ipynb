{
 "cells": [
  {
   "cell_type": "code",
   "execution_count": 1,
   "metadata": {},
   "outputs": [
    {
     "data": {
      "text/plain": [
       "'c:\\\\Thales\\\\Curiosidades\\\\ZapBot'"
      ]
     },
     "execution_count": 1,
     "metadata": {},
     "output_type": "execute_result"
    }
   ],
   "source": [
    "import os\n",
    "os.chdir('../')\n",
    "os.getcwd()"
   ]
  },
  {
   "cell_type": "code",
   "execution_count": 4,
   "metadata": {},
   "outputs": [
    {
     "name": "stderr",
     "output_type": "stream",
     "text": [
      "2022-02-07 10:23:34,894 zapbot.ZapAPI INFO     Driver Inicializado.\n",
      "2022-02-07 10:23:34,895 zapbot.ZapAPI INFO     Carregando pagina.\n",
      "2022-02-07 10:23:37,191 zapbot.ZapAPI DEBUG    tentativa 0\n",
      "2022-02-07 10:23:38,109 zapbot.ZapAPI INFO     Pagina Carregada\n"
     ]
    }
   ],
   "source": [
    "import logging\n",
    "from zapbot import ZapAPI\n",
    "bot = ZapAPI(\"C:/Thales/Curiosidades/ZapBot/drivers/chromedriver.exe\", debug_level=logging.DEBUG)"
   ]
  },
  {
   "cell_type": "code",
   "execution_count": 5,
   "metadata": {},
   "outputs": [
    {
     "ename": "NoOpenChatException",
     "evalue": "No open chat found, try calling ZapAPI.open_chat(<chat_name>) first.",
     "output_type": "error",
     "traceback": [
      "\u001b[1;31m---------------------------------------------------------------------------\u001b[0m",
      "\u001b[1;31mNoSuchElementException\u001b[0m                    Traceback (most recent call last)",
      "File \u001b[1;32mc:\\Thales\\Curiosidades\\ZapBot\\zapbot\\ZapAPI.py:161\u001b[0m, in \u001b[0;36mZapAPI.open_chat\u001b[1;34m(self, target, exact_match)\u001b[0m\n\u001b[0;32m    160\u001b[0m \u001b[38;5;28;01mtry\u001b[39;00m:\n\u001b[1;32m--> 161\u001b[0m     \u001b[38;5;28;01mreturn\u001b[39;00m \u001b[38;5;28;43mself\u001b[39;49m\u001b[38;5;241;43m.\u001b[39;49m\u001b[43mdriver\u001b[49m\u001b[38;5;241;43m.\u001b[39;49m\u001b[43mfind_element\u001b[49m\u001b[43m(\u001b[49m\u001b[43mBy\u001b[49m\u001b[38;5;241;43m.\u001b[39;49m\u001b[43mXPATH\u001b[49m\u001b[43m,\u001b[49m\u001b[43m \u001b[49m\u001b[43mCHAT_NAME\u001b[49m\u001b[43m)\u001b[49m\u001b[38;5;241m.\u001b[39mtext\n\u001b[0;32m    162\u001b[0m \u001b[38;5;28;01mexcept\u001b[39;00m NoSuchElementException:\n",
      "File \u001b[1;32mc:\\Thales\\Curiosidades\\ZapBot\\venv\\lib\\site-packages\\selenium\\webdriver\\remote\\webdriver.py:1244\u001b[0m, in \u001b[0;36mWebDriver.find_element\u001b[1;34m(self, by, value)\u001b[0m\n\u001b[0;32m   1242\u001b[0m     value \u001b[38;5;241m=\u001b[39m \u001b[38;5;124m'\u001b[39m\u001b[38;5;124m[name=\u001b[39m\u001b[38;5;124m\"\u001b[39m\u001b[38;5;132;01m%s\u001b[39;00m\u001b[38;5;124m\"\u001b[39m\u001b[38;5;124m]\u001b[39m\u001b[38;5;124m'\u001b[39m \u001b[38;5;241m%\u001b[39m value\n\u001b[1;32m-> 1244\u001b[0m \u001b[38;5;28;01mreturn\u001b[39;00m \u001b[38;5;28;43mself\u001b[39;49m\u001b[38;5;241;43m.\u001b[39;49m\u001b[43mexecute\u001b[49m\u001b[43m(\u001b[49m\u001b[43mCommand\u001b[49m\u001b[38;5;241;43m.\u001b[39;49m\u001b[43mFIND_ELEMENT\u001b[49m\u001b[43m,\u001b[49m\u001b[43m \u001b[49m\u001b[43m{\u001b[49m\n\u001b[0;32m   1245\u001b[0m \u001b[43m    \u001b[49m\u001b[38;5;124;43m'\u001b[39;49m\u001b[38;5;124;43musing\u001b[39;49m\u001b[38;5;124;43m'\u001b[39;49m\u001b[43m:\u001b[49m\u001b[43m \u001b[49m\u001b[43mby\u001b[49m\u001b[43m,\u001b[49m\n\u001b[0;32m   1246\u001b[0m \u001b[43m    \u001b[49m\u001b[38;5;124;43m'\u001b[39;49m\u001b[38;5;124;43mvalue\u001b[39;49m\u001b[38;5;124;43m'\u001b[39;49m\u001b[43m:\u001b[49m\u001b[43m \u001b[49m\u001b[43mvalue\u001b[49m\u001b[43m}\u001b[49m\u001b[43m)\u001b[49m[\u001b[38;5;124m'\u001b[39m\u001b[38;5;124mvalue\u001b[39m\u001b[38;5;124m'\u001b[39m]\n",
      "File \u001b[1;32mc:\\Thales\\Curiosidades\\ZapBot\\venv\\lib\\site-packages\\selenium\\webdriver\\remote\\webdriver.py:424\u001b[0m, in \u001b[0;36mWebDriver.execute\u001b[1;34m(self, driver_command, params)\u001b[0m\n\u001b[0;32m    423\u001b[0m \u001b[38;5;28;01mif\u001b[39;00m response:\n\u001b[1;32m--> 424\u001b[0m     \u001b[38;5;28;43mself\u001b[39;49m\u001b[38;5;241;43m.\u001b[39;49m\u001b[43merror_handler\u001b[49m\u001b[38;5;241;43m.\u001b[39;49m\u001b[43mcheck_response\u001b[49m\u001b[43m(\u001b[49m\u001b[43mresponse\u001b[49m\u001b[43m)\u001b[49m\n\u001b[0;32m    425\u001b[0m     response[\u001b[38;5;124m'\u001b[39m\u001b[38;5;124mvalue\u001b[39m\u001b[38;5;124m'\u001b[39m] \u001b[38;5;241m=\u001b[39m \u001b[38;5;28mself\u001b[39m\u001b[38;5;241m.\u001b[39m_unwrap_value(\n\u001b[0;32m    426\u001b[0m         response\u001b[38;5;241m.\u001b[39mget(\u001b[38;5;124m'\u001b[39m\u001b[38;5;124mvalue\u001b[39m\u001b[38;5;124m'\u001b[39m, \u001b[38;5;28;01mNone\u001b[39;00m))\n",
      "File \u001b[1;32mc:\\Thales\\Curiosidades\\ZapBot\\venv\\lib\\site-packages\\selenium\\webdriver\\remote\\errorhandler.py:247\u001b[0m, in \u001b[0;36mErrorHandler.check_response\u001b[1;34m(self, response)\u001b[0m\n\u001b[0;32m    246\u001b[0m     \u001b[38;5;28;01mraise\u001b[39;00m exception_class(message, screen, stacktrace, alert_text)  \u001b[38;5;66;03m# type: ignore[call-arg]  # mypy is not smart enough here\u001b[39;00m\n\u001b[1;32m--> 247\u001b[0m \u001b[38;5;28;01mraise\u001b[39;00m exception_class(message, screen, stacktrace)\n",
      "\u001b[1;31mNoSuchElementException\u001b[0m: Message: no such element: Unable to locate element: {\"method\":\"xpath\",\"selector\":\"//div[@id=\"main\"]/header/div[2]/div[1]\"}\n  (Session info: chrome=97.0.4692.99)\nStacktrace:\nBacktrace:\n\tOrdinal0 [0x00DFFDC3+2555331]\n\tOrdinal0 [0x00D977F1+2127857]\n\tOrdinal0 [0x00C92E08+1060360]\n\tOrdinal0 [0x00CBE49E+1238174]\n\tOrdinal0 [0x00CBE69B+1238683]\n\tOrdinal0 [0x00CE9252+1413714]\n\tOrdinal0 [0x00CD7B54+1342292]\n\tOrdinal0 [0x00CE75FA+1406458]\n\tOrdinal0 [0x00CD7976+1341814]\n\tOrdinal0 [0x00CB36B6+1193654]\n\tOrdinal0 [0x00CB4546+1197382]\n\tGetHandleVerifier [0x00F99622+1619522]\n\tGetHandleVerifier [0x0104882C+2336844]\n\tGetHandleVerifier [0x00E923E1+541697]\n\tGetHandleVerifier [0x00E91443+537699]\n\tOrdinal0 [0x00D9D18E+2150798]\n\tOrdinal0 [0x00DA1518+2168088]\n\tOrdinal0 [0x00DA1660+2168416]\n\tOrdinal0 [0x00DAB330+2208560]\n\tBaseThreadInitThunk [0x769BFA29+25]\n\tRtlGetAppContainerNamedObjectPath [0x77507A9E+286]\n\tRtlGetAppContainerNamedObjectPath [0x77507A6E+238]\n",
      "\nDuring handling of the above exception, another exception occurred:\n",
      "\u001b[1;31mNoOpenChatException\u001b[0m                       Traceback (most recent call last)",
      "Input \u001b[1;32mIn [5]\u001b[0m, in \u001b[0;36m<module>\u001b[1;34m\u001b[0m\n\u001b[1;32m----> 1\u001b[0m \u001b[43mbot\u001b[49m\u001b[38;5;241;43m.\u001b[39;49m\u001b[43mopen_chat\u001b[49m\u001b[43m(\u001b[49m\u001b[43m)\u001b[49m\n",
      "File \u001b[1;32mc:\\Thales\\Curiosidades\\ZapBot\\zapbot\\ZapAPI.py:163\u001b[0m, in \u001b[0;36mZapAPI.open_chat\u001b[1;34m(self, target, exact_match)\u001b[0m\n\u001b[0;32m    161\u001b[0m         \u001b[38;5;28;01mreturn\u001b[39;00m \u001b[38;5;28mself\u001b[39m\u001b[38;5;241m.\u001b[39mdriver\u001b[38;5;241m.\u001b[39mfind_element(By\u001b[38;5;241m.\u001b[39mXPATH, CHAT_NAME)\u001b[38;5;241m.\u001b[39mtext\n\u001b[0;32m    162\u001b[0m     \u001b[38;5;28;01mexcept\u001b[39;00m NoSuchElementException:\n\u001b[1;32m--> 163\u001b[0m         \u001b[38;5;28;01mraise\u001b[39;00m NoOpenChatException()\n\u001b[0;32m    165\u001b[0m \u001b[38;5;66;03m# Verifica se já corresponde ao chat aberto\u001b[39;00m\n\u001b[0;32m    166\u001b[0m \u001b[38;5;28;01mtry\u001b[39;00m:\n",
      "\u001b[1;31mNoOpenChatException\u001b[0m: No open chat found, try calling ZapAPI.open_chat(<chat_name>) first."
     ]
    }
   ],
   "source": [
    "bot.open_chat()"
   ]
  },
  {
   "cell_type": "code",
   "execution_count": 13,
   "metadata": {},
   "outputs": [
    {
     "name": "stderr",
     "output_type": "stream",
     "text": [
      "2022-02-07 00:42:29,104 zapbot.ZapAPI INFO     Chat aberto 'Grilo' difere de 'Eu' tentando novamente...\n",
      "2022-02-07 00:42:29,468 zapbot.ZapAPI INFO     Chat 'Eu' aberto com sucesso.\n",
      "2022-02-07 00:42:39,553 zapbot.ZapAPI INFO     Chat aberto 'Eu' difere de 'Grilo' tentando novamente...\n",
      "2022-02-07 00:42:39,899 zapbot.ZapAPI INFO     Chat 'Grilo' aberto com sucesso.\n",
      "2022-02-07 00:43:37,821 zapbot.ZapAPI INFO     Chat aberto 'Grilo' difere de 'Sussurro' tentando novamente...\n",
      "2022-02-07 00:43:38,202 zapbot.ZapAPI INFO     Chat 'Sussurro' aberto com sucesso.\n"
     ]
    },
    {
     "ename": "KeyboardInterrupt",
     "evalue": "",
     "output_type": "error",
     "traceback": [
      "\u001b[1;31m---------------------------------------------------------------------------\u001b[0m",
      "\u001b[1;31mKeyboardInterrupt\u001b[0m                         Traceback (most recent call last)",
      "Input \u001b[1;32mIn [13]\u001b[0m, in \u001b[0;36m<module>\u001b[1;34m\u001b[0m\n\u001b[0;32m      4\u001b[0m bot\u001b[38;5;241m.\u001b[39mopen_chat(\u001b[38;5;124m\"\u001b[39m\u001b[38;5;124meu\u001b[39m\u001b[38;5;124m\"\u001b[39m)\n\u001b[0;32m      5\u001b[0m \u001b[38;5;28;01mwhile\u001b[39;00m \u001b[38;5;28;01mTrue\u001b[39;00m:\n\u001b[1;32m----> 6\u001b[0m     \u001b[43msleep\u001b[49m\u001b[43m(\u001b[49m\u001b[38;5;241;43m.5\u001b[39;49m\u001b[43m)\u001b[49m\n\u001b[0;32m      7\u001b[0m     \u001b[38;5;28;01mfor\u001b[39;00m notification \u001b[38;5;129;01min\u001b[39;00m bot\u001b[38;5;241m.\u001b[39mget_notifications():\n\u001b[0;32m      8\u001b[0m         \u001b[38;5;28;01mif\u001b[39;00m \u001b[38;5;124m\"\u001b[39m\u001b[38;5;124mAnalytics\u001b[39m\u001b[38;5;124m\"\u001b[39m \u001b[38;5;129;01min\u001b[39;00m notification\u001b[38;5;241m.\u001b[39mname:\n",
      "\u001b[1;31mKeyboardInterrupt\u001b[0m: "
     ]
    }
   ],
   "source": [
    "# Replicando mensagens\n",
    "from time import sleep\n",
    "\n",
    "NOT_LISTENING = ('Analytics', 'Carran', 'Estrutura', '2', 'Padri', 'Se vi', 'BROTH', 'Rol', 'Botelho')\n",
    "\n",
    "# Abri uma conversa qualquer\n",
    "bot.open_chat(' ')\n",
    "while True:\n",
    "    sleep(.5)\n",
    "    for notification in bot.get_notifications():\n",
    "\n",
    "        #  Pula notificações indesejadas\n",
    "        skip = False\n",
    "        for name in NOT_LISTENING:\n",
    "            if name in notification.name:\n",
    "                skip = True\n",
    "        if skip:\n",
    "            continue\n",
    "\n",
    "        bot.open_chat(notification.name)\n",
    "\n",
    "    # Update messages\n",
    "    for msg in bot.get_messages(True):\n",
    "        if msg.sender != 'Sussurro':\n",
    "            bot.send_message(\"BOT: \"+msg.message)\n"
   ]
  }
 ],
 "metadata": {
  "kernelspec": {
   "display_name": "Python 3",
   "language": "python",
   "name": "python3"
  },
  "language_info": {
   "codemirror_mode": {
    "name": "ipython",
    "version": 3
   },
   "file_extension": ".py",
   "mimetype": "text/x-python",
   "name": "python",
   "nbconvert_exporter": "python",
   "pygments_lexer": "ipython3",
   "version": "3.10.0"
  }
 },
 "nbformat": 4,
 "nbformat_minor": 2
}
